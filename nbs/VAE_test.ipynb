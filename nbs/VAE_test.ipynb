{
  "nbformat": 4,
  "nbformat_minor": 0,
  "metadata": {
    "colab": {
      "provenance": [],
      "gpuType": "T4",
      "authorship_tag": "ABX9TyMY9xwL8+qWzMXIXlAQwIVS",
      "include_colab_link": true
    },
    "kernelspec": {
      "name": "python3",
      "display_name": "Python 3"
    },
    "language_info": {
      "name": "python"
    },
    "accelerator": "GPU"
  },
  "cells": [
    {
      "cell_type": "markdown",
      "metadata": {
        "id": "view-in-github",
        "colab_type": "text"
      },
      "source": [
        "<a href=\"https://colab.research.google.com/github/yukliio/Autoencoder-Driven-Model-Based-Transfer/blob/main/nbs/VAE_test.ipynb\" target=\"_parent\"><img src=\"https://colab.research.google.com/assets/colab-badge.svg\" alt=\"Open In Colab\"/></a>"
      ]
    },
    {
      "cell_type": "markdown",
      "source": [
        "# What is an autoencoder?"
      ],
      "metadata": {
        "id": "JWjncTfcJFP8"
      }
    },
    {
      "cell_type": "code",
      "source": [
        "# imports\n",
        "import torch\n",
        "import torch.nn as nn\n",
        "import torch.optim as optim\n",
        "import torchvision\n",
        "from torch.utils.data import DataLoader, Dataset\n",
        "import torchvision.transforms as transforms\n",
        "\n",
        "import matplotlib.pyplot as plt\n",
        "\n"
      ],
      "metadata": {
        "id": "v8QrWFAgJPyo"
      },
      "execution_count": null,
      "outputs": []
    },
    {
      "cell_type": "code",
      "source": [
        "# load the MNIST dataset\n",
        "\n",
        "mnist_train = torchvision.datasets.MNIST(\n",
        "    root='./',\n",
        "    train=True,\n",
        "    download=True,\n",
        "    transform=transforms.ToTensor()\n",
        ")\n",
        "\n",
        "mnist_test = torchvision.datasets.MNIST(\n",
        "    root='./',\n",
        "    train=False,\n",
        "    download=True,\n",
        "    transform=transforms.ToTensor()\n",
        ")"
      ],
      "metadata": {
        "id": "gV4l2-dDJUEJ"
      },
      "execution_count": null,
      "outputs": []
    },
    {
      "cell_type": "code",
      "source": [
        "print(\"Number of training samples:\", len(mnist_train))\n",
        "\n",
        "loader = DataLoader(mnist_train, batch_size=len(mnist_train))\n",
        "images, ground_truth = next(iter(loader))"
      ],
      "metadata": {
        "colab": {
          "base_uri": "https://localhost:8080/"
        },
        "id": "6sA-BD1SLzBC",
        "outputId": "f0f3f1d2-b9a1-44d2-ab6d-85fe03a383ec"
      },
      "execution_count": null,
      "outputs": [
        {
          "output_type": "stream",
          "name": "stdout",
          "text": [
            "Number of training samples: 60000\n"
          ]
        }
      ]
    },
    {
      "cell_type": "code",
      "source": [
        "images = images.squeeze()  # removes dimensions of size (1)\n",
        "print(images.shape)\n",
        "print(ground_truth.shape)"
      ],
      "metadata": {
        "colab": {
          "base_uri": "https://localhost:8080/"
        },
        "collapsed": true,
        "id": "PWaNtEWaOj99",
        "outputId": "a1f5cb63-3447-4a73-ae5b-161b4a7b3d42"
      },
      "execution_count": null,
      "outputs": [
        {
          "output_type": "stream",
          "name": "stdout",
          "text": [
            "torch.Size([60000, 28, 28])\n",
            "torch.Size([60000])\n"
          ]
        }
      ]
    },
    {
      "cell_type": "code",
      "source": [
        "print(torch.min(images[0]))\n",
        "print(torch.max(images[0]))\n",
        "\n",
        "images_int = (images * 255).byte()  # convert to 0-255\n",
        "print(images_int.min(), images_int.max())  # 0 255"
      ],
      "metadata": {
        "colab": {
          "base_uri": "https://localhost:8080/"
        },
        "id": "pZJPYVVyQ1My",
        "outputId": "155b0c34-eb06-4ca4-de8c-c4c2fc6d3923"
      },
      "execution_count": null,
      "outputs": [
        {
          "output_type": "stream",
          "name": "stdout",
          "text": [
            "tensor(0.)\n",
            "tensor(1.)\n",
            "tensor(0, dtype=torch.uint8) tensor(255, dtype=torch.uint8)\n"
          ]
        }
      ]
    },
    {
      "cell_type": "code",
      "source": [
        "image_index = 15\n",
        "\n",
        "print(ground_truth[image_index])\n",
        "plt.imshow(images[image_index], cmap='gray')"
      ],
      "metadata": {
        "colab": {
          "base_uri": "https://localhost:8080/",
          "height": 466
        },
        "id": "B70yaNeERQV9",
        "outputId": "c779c072-6fd1-4f31-d7f1-f0c70eac04c0"
      },
      "execution_count": null,
      "outputs": [
        {
          "output_type": "stream",
          "name": "stdout",
          "text": [
            "tensor(7)\n"
          ]
        },
        {
          "output_type": "execute_result",
          "data": {
            "text/plain": [
              "<matplotlib.image.AxesImage at 0x797e88145f10>"
            ]
          },
          "metadata": {},
          "execution_count": 30
        },
        {
          "output_type": "display_data",
          "data": {
            "text/plain": [
              "<Figure size 640x480 with 1 Axes>"
            ],
            "image/png": "[encoded data removed]"
          },
          "metadata": {}
        }
      ]
    },
    {
      "cell_type": "code",
      "source": [
        "import torch\n",
        "from torchvision import datasets, transforms\n",
        "\n",
        "mnist_train = datasets.MNIST(\n",
        "    root='./',\n",
        "    train=True,\n",
        "    download=True,\n",
        "    transform=transforms.ToTensor()\n",
        ")\n",
        "\n",
        "\n",
        "# stack all images into one tensor\n",
        "all_images = torch.stack([img for img, label in mnist_train])  # [60000, 1, 28, 28]\n",
        "\n",
        "# stack all labels into one tensor\n",
        "all_labels = torch.tensor([label for img, label in mnist_train])  # [60000]\n",
        "\n",
        "# save to file\n",
        "torch.save((all_images, all_labels), 'mnist_train.pt')\n",
        "print(\"File saved as mnist_train.pt\")"
      ],
      "metadata": {
        "id": "hRCuUqcNZtuM",
        "outputId": "f01ca209-85cc-42dc-f6dc-250873ed9a12",
        "colab": {
          "base_uri": "https://localhost:8080/"
        }
      },
      "execution_count": null,
      "outputs": [
        {
          "output_type": "stream",
          "name": "stdout",
          "text": [
            "File saved as mnist_train.pt\n"
          ]
        }
      ]
    },
    {
      "cell_type": "code",
      "source": [
        "\n",
        "mnist_test = datasets.MNIST(\n",
        "    root='./',\n",
        "    train=True,\n",
        "    download=True,\n",
        "    transform=transforms.ToTensor()\n",
        ")\n",
        "\n",
        "\n",
        "# stack all images into one tensor\n",
        "all_images = torch.stack([img for img, label in mnist_test])\n",
        "\n",
        "# stack all labels into one tensor\n",
        "all_labels = torch.tensor([label for img, label in mnist_test])\n",
        "\n",
        "# save to file\n",
        "torch.save((all_images, all_labels), 'mnist_test.pt')\n",
        "print(\"File saved as mnist_test.pt\")"
      ],
      "metadata": {
        "id": "8kZsLEZrZ6V2",
        "outputId": "0d8af48e-cd75-4d6f-bcec-7dc82e322797",
        "colab": {
          "base_uri": "https://localhost:8080/"
        }
      },
      "execution_count": null,
      "outputs": [
        {
          "output_type": "stream",
          "name": "stdout",
          "text": [
            "File saved as mnist_test.pt\n"
          ]
        }
      ]
    },
    {
      "cell_type": "code",
      "source": [
        "# map style pytorch dataset\n",
        "\n",
        "class MNISTDataset(Dataset):\n",
        "  # need to implement getitem and len methods. creates a map dataste and can query the dataset via index\n",
        "  def __init__(self, path):\n",
        "    # loads data into memory\n",
        "    self.images, self.ground_truth = torch.load(path)\n",
        "\n",
        "  def __getitem__(self, idx):\n",
        "    # returns the image with index idx\n",
        "    x = self.images[idx].float()\n",
        "    x = torch.flatten(x)\n",
        "    y = self.ground_truth[idx]\n",
        "\n",
        "    return x, y\n",
        "\n",
        "  def __len__(self):\n",
        "  # returns the length of the dataset\n",
        "    return len(self.ground_truth)\n",
        "\n"
      ],
      "metadata": {
        "id": "AYYyhWyATElp"
      },
      "execution_count": null,
      "outputs": []
    },
    {
      "cell_type": "code",
      "source": [
        "# make the dataset\n",
        "train_dataset = MNISTDataset(\"mnist_train.pt\")\n",
        "test_dataset = MNISTDataset(\"mnist_test.pt\")\n",
        "\n",
        "train_loader = DataLoader(train_dataset, batch_size=64, shuffle=True)\n",
        "test_loader = DataLoader(test_dataset, batch_size=64, shuffle=True)\n",
        "\n"
      ],
      "metadata": {
        "id": "-ua0xV2QZ3r_"
      },
      "execution_count": null,
      "outputs": []
    },
    {
      "cell_type": "code",
      "source": [
        "print(len(train_dataset))\n",
        "print(len(test_dataset))"
      ],
      "metadata": {
        "id": "-gjmPF7jOb0s",
        "outputId": "fb21b464-eb7a-4644-bb40-6eed7cbc8845",
        "colab": {
          "base_uri": "https://localhost:8080/"
        }
      },
      "execution_count": null,
      "outputs": [
        {
          "output_type": "stream",
          "name": "stdout",
          "text": [
            "60000\n",
            "60000\n"
          ]
        }
      ]
    },
    {
      "cell_type": "code",
      "source": [
        "x, y = train_dataset[12]\n",
        "plt.imshow(x.numpy().reshape(28,28), cmap='gray')"
      ],
      "metadata": {
        "id": "vvpZliS1Q5W6",
        "outputId": "5cdba376-115c-46f5-e9fb-6e5f16757510",
        "colab": {
          "base_uri": "https://localhost:8080/",
          "height": 448
        }
      },
      "execution_count": null,
      "outputs": [
        {
          "output_type": "execute_result",
          "data": {
            "text/plain": [
              "<matplotlib.image.AxesImage at 0x797e8b715bb0>"
            ]
          },
          "metadata": {},
          "execution_count": 36
        },
        {
          "output_type": "display_data",
          "data": {
            "text/plain": [
              "<Figure size 640x480 with 1 Axes>"
            ],
            "image/png": "[encoded data removed]"
          },
          "metadata": {}
        }
      ]
    },
    {
      "cell_type": "code",
      "source": [],
      "metadata": {
        "id": "i0MNRcYGQNEQ"
      },
      "execution_count": null,
      "outputs": []
    },
    {
      "cell_type": "code",
      "source": [
        "import torch.nn as nn\n",
        "import torch.nn.functional as F\n",
        "\n",
        "class AutoEncoder(nn.Module):\n",
        "  \"\"\"\n",
        "  params:\n",
        "    - input_shape: shape fo the input data\n",
        "    - latent_dim: size of the latent dim\n",
        "  \"\"\"\n",
        "  def __init__(self, input_shape, latent_dim=128):\n",
        "    super().__init__()\n",
        "    # two fully connected layers for encoder (input_shape --> latent dim)\n",
        "    self.encoder_11 = nn.Linear(in_features=input_shape, out_features=latent_dim)\n",
        "    self.encoder_12 = nn.Linear(in_features=latent_dim, out_features=latent_dim)\n",
        "\n",
        "    # two fully connected layers for decder (128 --> input_shape)\n",
        "    self.decoder_11 = nn.Linear(in_features=latent_dim, out_features=latent_dim)\n",
        "    self.decoder_12 = nn.Linear(in_features=latent_dim, out_features=input_shape)\n",
        "\n",
        "  def forward(self, x):\n",
        "    \"\"\"\n",
        "    params:\n",
        "      - x: input data\n",
        "\n",
        "    returns:\n",
        "      - x_hat: reconstructed data\n",
        "    \"\"\"\n",
        "\n",
        "    latent = self.run_encoder(x)\n",
        "    x_hat = self.run_decoder(latent)\n",
        "    return x_hat\n",
        "\n",
        "  def run_encoder(self, x):\n",
        "    # runs encoder\n",
        "    output = F.relu(self.encoder_11(x))\n",
        "    latent = F.relu(self.encoder_12(output))\n",
        "    return latent\n",
        "\n",
        "  def run_decoder(self, latent):\n",
        "    # runs decoder\n",
        "    output = F.relu(self.decoder_11(latent))\n",
        "    x_hat = F.relu(self.decoder_12(output))\n",
        "    return x_hat\n"
      ],
      "metadata": {
        "id": "PGufqr3pQPby"
      },
      "execution_count": null,
      "outputs": []
    },
    {
      "cell_type": "code",
      "source": [
        "x, y = train_dataset[0]\n",
        "image_shape = x.shape[0]\n",
        "print(image_shape)\n",
        "model = AutoEncoder(input_shape=image_shape)\n",
        "model.train()\n",
        "model.cuda()\n"
      ],
      "metadata": {
        "id": "8iNP4rM-UswK",
        "outputId": "4047f288-b034-428b-dc0e-5d0be94fd4e3",
        "colab": {
          "base_uri": "https://localhost:8080/"
        }
      },
      "execution_count": null,
      "outputs": [
        {
          "output_type": "stream",
          "name": "stdout",
          "text": [
            "784\n"
          ]
        },
        {
          "output_type": "execute_result",
          "data": {
            "text/plain": [
              "AutoEncoder(\n",
              "  (encoder_11): Linear(in_features=784, out_features=128, bias=True)\n",
              "  (encoder_12): Linear(in_features=128, out_features=128, bias=True)\n",
              "  (decoder_11): Linear(in_features=128, out_features=128, bias=True)\n",
              "  (decoder_12): Linear(in_features=128, out_features=784, bias=True)\n",
              ")"
            ]
          },
          "metadata": {},
          "execution_count": 38
        }
      ]
    },
    {
      "cell_type": "code",
      "source": [],
      "metadata": {
        "id": "TgnsR3aUzSGg"
      },
      "execution_count": null,
      "outputs": []
    },
    {
      "cell_type": "code",
      "source": [
        "import torch.nn as nn\n",
        "import torch.optim as optim\n",
        "\n",
        "mae = nn.MSELoss()\n",
        "\n",
        "optimizer = optim.Adam(model.parameters(), lr=1e-3)\n",
        "n_epochs = 100\n",
        "\n",
        "for epoch in range(n_epochs):\n",
        "    loss = 0\n",
        "    for batch_features, _ in train_loader:\n",
        "        batch_features = batch_features.cuda()\n",
        "\n",
        "        # reset gradients back to zero\n",
        "        optimizer.zero_grad()\n",
        "\n",
        "\n",
        "        outputs = model(batch_features)\n",
        "        train_loss = mae(outputs, batch_features)\n",
        "        train_loss.backward()\n",
        "        optimizer.step()\n",
        "\n",
        "        loss += train_loss.item()\n",
        "\n",
        "    loss = loss / len(train_loader)\n",
        "\n",
        "    if epoch % 5 == 0:\n",
        "        print(\"epoch: {}/{}, loss = {:.6f}\".format(epoch + 1, n_epochs, loss))\n",
        "\n",
        "# final report\n",
        "print(\"epoch: {}/{}, loss = {:.6f}\".format(n_epochs, n_epochs, loss))\n",
        "\n"
      ],
      "metadata": {
        "id": "Y-L3i0QgVWco",
        "outputId": "521e4dc6-f9b6-4ab8-da19-046942b42104",
        "colab": {
          "base_uri": "https://localhost:8080/"
        }
      },
      "execution_count": null,
      "outputs": [
        {
          "output_type": "stream",
          "name": "stdout",
          "text": [
            "epoch: 1/100, loss = 0.028639\n",
            "epoch: 6/100, loss = 0.014197\n",
            "epoch: 11/100, loss = 0.013376\n",
            "epoch: 16/100, loss = 0.012935\n",
            "epoch: 21/100, loss = 0.012675\n",
            "epoch: 26/100, loss = 0.012546\n",
            "epoch: 31/100, loss = 0.012486\n",
            "epoch: 36/100, loss = 0.012436\n",
            "epoch: 41/100, loss = 0.012397\n",
            "epoch: 46/100, loss = 0.012357\n",
            "epoch: 51/100, loss = 0.012330\n",
            "epoch: 56/100, loss = 0.012302\n",
            "epoch: 61/100, loss = 0.012290\n",
            "epoch: 66/100, loss = 0.012281\n",
            "epoch: 71/100, loss = 0.012238\n",
            "epoch: 76/100, loss = 0.012225\n",
            "epoch: 81/100, loss = 0.012214\n",
            "epoch: 86/100, loss = 0.012194\n",
            "epoch: 91/100, loss = 0.012186\n",
            "epoch: 96/100, loss = 0.012174\n",
            "epoch: 100/100, loss = 0.012160\n"
          ]
        }
      ]
    },
    {
      "cell_type": "code",
      "source": [
        "model.eval()"
      ],
      "metadata": {
        "id": "KFc8QnLX2MC0",
        "outputId": "eb5e8440-8b50-4427-eb62-cf1434f1038e",
        "colab": {
          "base_uri": "https://localhost:8080/"
        }
      },
      "execution_count": null,
      "outputs": [
        {
          "output_type": "execute_result",
          "data": {
            "text/plain": [
              "AutoEncoder(\n",
              "  (encoder_11): Linear(in_features=784, out_features=128, bias=True)\n",
              "  (encoder_12): Linear(in_features=128, out_features=128, bias=True)\n",
              "  (decoder_11): Linear(in_features=128, out_features=128, bias=True)\n",
              "  (decoder_12): Linear(in_features=128, out_features=784, bias=True)\n",
              ")"
            ]
          },
          "metadata": {},
          "execution_count": 40
        }
      ]
    },
    {
      "cell_type": "code",
      "source": [
        "kernel_size = 4\n",
        "init_channels = 8\n",
        "image_channels = 1\n",
        "latent_dim =16"
      ],
      "metadata": {
        "id": "PIC9bGwvqPDz"
      },
      "execution_count": null,
      "outputs": []
    },
    {
      "cell_type": "code",
      "source": [
        "import torch\n",
        "import torch.nn as nn\n",
        "import torch.nn.functional as F"
      ],
      "metadata": {
        "id": "9tDYucmnqqZ2"
      },
      "execution_count": null,
      "outputs": []
    },
    {
      "cell_type": "code",
      "source": [
        "# define a Conv VAE\n",
        "class ConvVAE(nn.Module):\n",
        "    def __init__(self):\n",
        "        super(ConvVAE, self).__init__()\n",
        "\n",
        "        # encoder\n",
        "        self.enc1 = nn.Conv2d(\n",
        "            in_channels=image_channels, out_channels=init_channels, kernel_size=kernel_size,\n",
        "            stride=2, padding=1\n",
        "        )\n",
        "        self.enc2 = nn.Conv2d(\n",
        "            in_channels=init_channels, out_channels=init_channels*2, kernel_size=kernel_size,\n",
        "            stride=2, padding=1\n",
        "        )\n",
        "        self.enc3 = nn.Conv2d(\n",
        "            in_channels=init_channels*2, out_channels=init_channels*4, kernel_size=kernel_size,\n",
        "            stride=2, padding=1\n",
        "        )\n",
        "        self.enc4 = nn.Conv2d(\n",
        "            in_channels=init_channels*4, out_channels=64, kernel_size=kernel_size,\n",
        "            stride=2, padding=0\n",
        "        )\n",
        "        # fully connected layers for learning representations\n",
        "        self.fc1 = nn.Linear(64, 128)\n",
        "        self.fc_mu = nn.Linear(128, latent_dim)\n",
        "        self.fc_log_var = nn.Linear(128, latent_dim)\n",
        "        self.fc2 = nn.Linear(latent_dim, 64)\n",
        "        # decoder\n",
        "        self.dec1 = nn.ConvTranspose2d(\n",
        "            in_channels=64, out_channels=init_channels*8, kernel_size=kernel_size,\n",
        "            stride=1, padding=0\n",
        "        )\n",
        "        self.dec2 = nn.ConvTranspose2d(\n",
        "            in_channels=init_channels*8, out_channels=init_channels*4, kernel_size=kernel_size,\n",
        "            stride=2, padding=1\n",
        "        )\n",
        "        self.dec3 = nn.ConvTranspose2d(\n",
        "            in_channels=init_channels*4, out_channels=init_channels*2, kernel_size=kernel_size,\n",
        "            stride=2, padding=1\n",
        "        )\n",
        "        self.dec4 = nn.ConvTranspose2d(\n",
        "            in_channels=init_channels*2, out_channels=image_channels, kernel_size=kernel_size,\n",
        "            stride=2, padding=1\n",
        "        )\n",
        "    def reparameterize(self, mu, log_var):\n",
        "        \"\"\"\n",
        "        :param mu: mean from the encoder's latent space\n",
        "        :param log_var: log variance from the encoder's latent space\n",
        "        \"\"\"\n",
        "        std = torch.exp(0.5*log_var) # standard deviation\n",
        "        eps = torch.randn_like(std) # `randn_like` as we need the same size\n",
        "        sample = mu + (eps * std) # sampling\n",
        "        return sample\n",
        "\n",
        "    def forward(self, x):\n",
        "        # encoding\n",
        "        x = F.relu(self.enc1(x))\n",
        "        x = F.relu(self.enc2(x))\n",
        "        x = F.relu(self.enc3(x))\n",
        "        x = F.relu(self.enc4(x))\n",
        "        batch, _, _, _ = x.shape\n",
        "        x = F.adaptive_avg_pool2d(x, 1).reshape(batch, -1)\n",
        "        hidden = self.fc1(x)\n",
        "        # get `mu` and `log_var`\n",
        "        mu = self.fc_mu(hidden)\n",
        "        log_var = self.fc_log_var(hidden)\n",
        "        # get the latent vector through reparameterization\n",
        "        z = self.reparameterize(mu, log_var)\n",
        "        z = self.fc2(z)\n",
        "        z = z.view(-1, 64, 1, 1)\n",
        "\n",
        "        # decoding\n",
        "        x = F.relu(self.dec1(z))\n",
        "        x = F.relu(self.dec2(x))\n",
        "        x = F.relu(self.dec3(x))\n",
        "        reconstruction = torch.sigmoid(self.dec4(x))\n",
        "        return reconstruction, mu, log_var"
      ],
      "metadata": {
        "id": "eNt9hY981-uc"
      },
      "execution_count": null,
      "outputs": []
    },
    {
      "cell_type": "code",
      "source": [
        "import os\n",
        "os.makedirs(\"../outputs\", exist_ok=True)"
      ],
      "metadata": {
        "id": "A-2fJRYDsf_y"
      },
      "execution_count": null,
      "outputs": []
    },
    {
      "cell_type": "code",
      "source": [
        "import imageio\n",
        "import numpy as np\n",
        "import torchvision.transforms as transforms\n",
        "import matplotlib.pyplot as plt\n",
        "from tqdm import tqdm\n",
        "from torchvision.utils import save_image\n",
        "to_pil_image = transforms.ToPILImage()\n",
        "def image_to_vid(images):\n",
        "    imgs = [np.array(to_pil_image(img)) for img in images]\n",
        "    imageio.mimsave('../outputs/generated_images.gif', imgs)\n",
        "def save_reconstructed_images(recon_images, epoch):\n",
        "    save_image(recon_images.cpu(), f\"../outputs/output{epoch}.jpg\")\n",
        "def save_loss_plot(train_loss, valid_loss):\n",
        "    # loss plots\n",
        "    plt.figure(figsize=(10, 7))\n",
        "    plt.plot(train_loss, color='orange', label='train loss')\n",
        "    plt.plot(valid_loss, color='red', label='validataion loss')\n",
        "    plt.xlabel('Epochs')\n",
        "    plt.ylabel('Loss')\n",
        "    plt.legend()\n",
        "    plt.savefig('../outputs/loss.jpg')\n",
        "    plt.show()\n",
        "def final_loss(bce_loss, mu, logvar):\n",
        "    \"\"\"\n",
        "    This function will add the reconstruction loss (BCELoss) and the\n",
        "    KL-Divergence.\n",
        "    KL-Divergence = 0.5 * sum(1 + log(sigma^2) - mu^2 - sigma^2)\n",
        "    :param bce_loss: recontruction loss\n",
        "    :param mu: the mean from the latent vector\n",
        "    :param logvar: log variance from the latent vector\n",
        "    \"\"\"\n",
        "    BCE = bce_loss\n",
        "    KLD = -0.5 * torch.sum(1 + logvar - mu.pow(2) - logvar.exp())\n",
        "    return BCE + KLD\n",
        "\n"
      ],
      "metadata": {
        "id": "jyNOgwWvqln0"
      },
      "execution_count": null,
      "outputs": []
    },
    {
      "cell_type": "code",
      "source": [
        "def train(model, dataloader, dataset, device, optimizer, criterion):\n",
        "    model.train()\n",
        "    running_loss = 0.0\n",
        "    counter = 0\n",
        "    for i, data in tqdm(enumerate(dataloader), total=int(len(dataset)/dataloader.batch_size)):\n",
        "        counter += 1\n",
        "        data = data[0]\n",
        "        data = data.to(device)\n",
        "        optimizer.zero_grad()\n",
        "        reconstruction, mu, logvar = model(data)\n",
        "        bce_loss = criterion(reconstruction, data)\n",
        "        loss = final_loss(bce_loss, mu, logvar)\n",
        "        loss.backward()\n",
        "        running_loss += loss.item()\n",
        "        optimizer.step()\n",
        "    train_loss = running_loss / counter\n",
        "    return train_loss\n",
        "\n",
        "def validate(model, dataloader, dataset, device, criterion):\n",
        "  model.eval()\n",
        "  running_loss = 0.0\n",
        "  counter = 0\n",
        "  with torch.no_grad():\n",
        "      for i, data in tqdm(enumerate(dataloader), total=int(len(dataset)/dataloader.batch_size)):\n",
        "          counter += 1\n",
        "          data= data[0]\n",
        "          data = data.to(device)\n",
        "          reconstruction, mu, logvar = model(data)\n",
        "          bce_loss = criterion(reconstruction, data)\n",
        "          loss = final_loss(bce_loss, mu, logvar)\n",
        "          running_loss += loss.item()\n",
        "\n",
        "          # save the last batch input and output of every epoch\n",
        "          if i == int(len(dataset)/dataloader.batch_size) - 1:\n",
        "              recon_images = reconstruction\n",
        "  val_loss = running_loss / counter\n",
        "  return val_loss, recon_images"
      ],
      "metadata": {
        "id": "Z84ducxYq_tp"
      },
      "execution_count": null,
      "outputs": []
    },
    {
      "cell_type": "code",
      "source": [
        "import torch\n",
        "import torch.optim as optim\n",
        "import torch.nn as nn\n",
        "import torchvision.transforms as transforms\n",
        "import torchvision\n",
        "import matplotlib\n",
        "from torch.utils.data import DataLoader\n",
        "from torchvision.utils import make_grid\n",
        "matplotlib.style.use('ggplot')\n",
        "\n",
        "\n",
        "device = torch.device('cuda' if torch.cuda.is_available() else 'cpu')\n",
        "# initialize the model\n",
        "model = ConvVAE().to(device)\n",
        "# set the learning parameters\n",
        "lr = 0.001\n",
        "epochs = 100\n",
        "batch_size = 64\n",
        "optimizer = optim.Adam(model.parameters(), lr=lr)\n",
        "criterion = nn.BCELoss(reduction='sum')\n",
        "# a list to save all the reconstructed images in PyTorch grid format\n",
        "grid_images = []\n",
        "\n",
        "\n",
        "transform = transforms.Compose([\n",
        "    transforms.Resize((32, 32)),\n",
        "    transforms.ToTensor(),\n",
        "])\n",
        "# training set and train data loader\n",
        "trainset = torchvision.datasets.MNIST(\n",
        "    root='../input', train=True, download=True, transform=transform\n",
        ")\n",
        "trainloader = DataLoader(\n",
        "    trainset, batch_size=batch_size, shuffle=True\n",
        ")\n",
        "# validation set and validation data loader\n",
        "testset = torchvision.datasets.MNIST(\n",
        "    root='../input', train=False, download=True, transform=transform\n",
        ")\n",
        "testloader = DataLoader(\n",
        "    testset, batch_size=batch_size, shuffle=False\n",
        ")"
      ],
      "metadata": {
        "id": "C1zZUk_1rVW8"
      },
      "execution_count": null,
      "outputs": []
    },
    {
      "cell_type": "code",
      "source": [
        "train_loss = []\n",
        "valid_loss = []\n",
        "for epoch in range(epochs):\n",
        "    print(f\"Epoch {epoch+1} of {epochs}\")\n",
        "    train_epoch_loss = train(\n",
        "        model, trainloader, trainset, device, optimizer, criterion\n",
        "    )\n",
        "    valid_epoch_loss, recon_images = validate(\n",
        "        model, testloader, testset, device, criterion\n",
        "    )\n",
        "    train_loss.append(train_epoch_loss)\n",
        "    valid_loss.append(valid_epoch_loss)\n",
        "    # save the reconstructed images from the validation loop\n",
        "    save_reconstructed_images(recon_images, epoch+1)\n",
        "    # convert the reconstructed images to PyTorch image grid format\n",
        "    image_grid = make_grid(recon_images.detach().cpu())\n",
        "    grid_images.append(image_grid)\n",
        "    print(f\"Train Loss: {train_epoch_loss:.4f}\")\n",
        "    print(f\"Val Loss: {valid_epoch_loss:.4f}\")"
      ],
      "metadata": {
        "id": "U4ue5OcwrzBO",
        "outputId": "66c781ff-543f-4df9-98b8-bc9d031fd4be",
        "colab": {
          "base_uri": "https://localhost:8080/"
        }
      },
      "execution_count": null,
      "outputs": [
        {
          "output_type": "stream",
          "name": "stdout",
          "text": [
            "Epoch 1 of 100\n"
          ]
        },
        {
          "output_type": "stream",
          "name": "stderr",
          "text": [
            "938it [00:13, 67.07it/s]\n",
            "157it [00:01, 99.24it/s]                         \n"
          ]
        },
        {
          "output_type": "stream",
          "name": "stdout",
          "text": [
            "Train Loss: 14744.2218\n",
            "Val Loss: 11363.7844\n",
            "Epoch 2 of 100\n"
          ]
        },
        {
          "output_type": "stream",
          "name": "stderr",
          "text": [
            "938it [00:14, 65.09it/s]                         \n",
            "157it [00:01, 95.50it/s]\n"
          ]
        },
        {
          "output_type": "stream",
          "name": "stdout",
          "text": [
            "Train Loss: 11129.6455\n",
            "Val Loss: 10828.4508\n",
            "Epoch 3 of 100\n"
          ]
        },
        {
          "output_type": "stream",
          "name": "stderr",
          "text": [
            "938it [00:13, 67.29it/s]                         \n",
            "157it [00:01, 99.16it/s]                         \n"
          ]
        },
        {
          "output_type": "stream",
          "name": "stdout",
          "text": [
            "Train Loss: 10805.4842\n",
            "Val Loss: 10676.1088\n",
            "Epoch 4 of 100\n"
          ]
        },
        {
          "output_type": "stream",
          "name": "stderr",
          "text": [
            "938it [00:13, 67.80it/s]                         \n",
            "157it [00:01, 99.21it/s]                         \n"
          ]
        },
        {
          "output_type": "stream",
          "name": "stdout",
          "text": [
            "Train Loss: 10652.9855\n",
            "Val Loss: 10503.7485\n",
            "Epoch 5 of 100\n"
          ]
        },
        {
          "output_type": "stream",
          "name": "stderr",
          "text": [
            "938it [00:13, 67.14it/s]                         \n",
            "157it [00:02, 75.97it/s]                         \n"
          ]
        },
        {
          "output_type": "stream",
          "name": "stdout",
          "text": [
            "Train Loss: 10545.3388\n",
            "Val Loss: 10450.1387\n",
            "Epoch 6 of 100\n"
          ]
        },
        {
          "output_type": "stream",
          "name": "stderr",
          "text": [
            "938it [00:13, 67.77it/s]                         \n",
            "157it [00:01, 98.68it/s]                         \n"
          ]
        },
        {
          "output_type": "stream",
          "name": "stdout",
          "text": [
            "Train Loss: 10474.7405\n",
            "Val Loss: 10380.6490\n",
            "Epoch 7 of 100\n"
          ]
        },
        {
          "output_type": "stream",
          "name": "stderr",
          "text": [
            "938it [00:13, 68.38it/s]\n",
            "157it [00:01, 98.42it/s]                         \n"
          ]
        },
        {
          "output_type": "stream",
          "name": "stdout",
          "text": [
            "Train Loss: 10391.4365\n",
            "Val Loss: 10292.7751\n",
            "Epoch 8 of 100\n"
          ]
        },
        {
          "output_type": "stream",
          "name": "stderr",
          "text": [
            "938it [00:13, 67.59it/s]                         \n",
            "157it [00:01, 81.90it/s]                         \n"
          ]
        },
        {
          "output_type": "stream",
          "name": "stdout",
          "text": [
            "Train Loss: 10260.9256\n",
            "Val Loss: 10118.4801\n",
            "Epoch 9 of 100\n"
          ]
        },
        {
          "output_type": "stream",
          "name": "stderr",
          "text": [
            "938it [00:14, 66.83it/s]                         \n",
            "157it [00:01, 100.12it/s]                        \n"
          ]
        },
        {
          "output_type": "stream",
          "name": "stdout",
          "text": [
            "Train Loss: 10153.4863\n",
            "Val Loss: 10046.6554\n",
            "Epoch 10 of 100\n"
          ]
        },
        {
          "output_type": "stream",
          "name": "stderr",
          "text": [
            "938it [00:13, 67.55it/s]\n",
            "157it [00:01, 97.40it/s]                         \n"
          ]
        },
        {
          "output_type": "stream",
          "name": "stdout",
          "text": [
            "Train Loss: 10105.1173\n",
            "Val Loss: 10038.5681\n",
            "Epoch 11 of 100\n"
          ]
        },
        {
          "output_type": "stream",
          "name": "stderr",
          "text": [
            "938it [00:13, 67.57it/s]\n",
            "157it [00:01, 96.78it/s]                         \n"
          ]
        },
        {
          "output_type": "stream",
          "name": "stdout",
          "text": [
            "Train Loss: 10059.0595\n",
            "Val Loss: 9976.1646\n",
            "Epoch 12 of 100\n"
          ]
        },
        {
          "output_type": "stream",
          "name": "stderr",
          "text": [
            "938it [00:14, 65.24it/s]\n",
            "157it [00:01, 96.21it/s]                         \n"
          ]
        },
        {
          "output_type": "stream",
          "name": "stdout",
          "text": [
            "Train Loss: 10030.0394\n",
            "Val Loss: 9978.5816\n",
            "Epoch 13 of 100\n"
          ]
        },
        {
          "output_type": "stream",
          "name": "stderr",
          "text": [
            "938it [00:13, 68.26it/s]                         \n",
            "157it [00:01, 99.52it/s]                         \n"
          ]
        },
        {
          "output_type": "stream",
          "name": "stdout",
          "text": [
            "Train Loss: 10004.2404\n",
            "Val Loss: 9954.4294\n",
            "Epoch 14 of 100\n"
          ]
        },
        {
          "output_type": "stream",
          "name": "stderr",
          "text": [
            "938it [00:13, 67.66it/s]                         \n",
            "157it [00:01, 98.47it/s]                         \n"
          ]
        },
        {
          "output_type": "stream",
          "name": "stdout",
          "text": [
            "Train Loss: 9978.8923\n",
            "Val Loss: 9935.1939\n",
            "Epoch 15 of 100\n"
          ]
        },
        {
          "output_type": "stream",
          "name": "stderr",
          "text": [
            "938it [00:13, 67.13it/s]\n",
            "157it [00:02, 72.40it/s]                         \n"
          ]
        },
        {
          "output_type": "stream",
          "name": "stdout",
          "text": [
            "Train Loss: 9961.1738\n",
            "Val Loss: 9909.5835\n",
            "Epoch 16 of 100\n"
          ]
        },
        {
          "output_type": "stream",
          "name": "stderr",
          "text": [
            "938it [00:13, 67.63it/s]                         \n",
            "157it [00:01, 99.11it/s]                         \n"
          ]
        },
        {
          "output_type": "stream",
          "name": "stdout",
          "text": [
            "Train Loss: 9946.3839\n",
            "Val Loss: 9947.8771\n",
            "Epoch 17 of 100\n"
          ]
        },
        {
          "output_type": "stream",
          "name": "stderr",
          "text": [
            "938it [00:13, 68.08it/s]                         \n",
            "157it [00:01, 99.38it/s]                          \n"
          ]
        },
        {
          "output_type": "stream",
          "name": "stdout",
          "text": [
            "Train Loss: 9930.7502\n",
            "Val Loss: 9885.7724\n",
            "Epoch 18 of 100\n"
          ]
        },
        {
          "output_type": "stream",
          "name": "stderr",
          "text": [
            "938it [00:13, 67.31it/s]                         \n",
            "157it [00:01, 87.74it/s]                         \n"
          ]
        },
        {
          "output_type": "stream",
          "name": "stdout",
          "text": [
            "Train Loss: 9912.7948\n",
            "Val Loss: 9883.6571\n",
            "Epoch 19 of 100\n"
          ]
        },
        {
          "output_type": "stream",
          "name": "stderr",
          "text": [
            "938it [00:14, 65.22it/s]                         \n",
            "157it [00:01, 97.46it/s]                         \n"
          ]
        },
        {
          "output_type": "stream",
          "name": "stdout",
          "text": [
            "Train Loss: 9897.2975\n",
            "Val Loss: 9870.1355\n",
            "Epoch 20 of 100\n"
          ]
        },
        {
          "output_type": "stream",
          "name": "stderr",
          "text": [
            "938it [00:13, 67.53it/s]                         \n",
            "157it [00:01, 97.67it/s]                         \n"
          ]
        },
        {
          "output_type": "stream",
          "name": "stdout",
          "text": [
            "Train Loss: 9888.5814\n",
            "Val Loss: 9866.6482\n",
            "Epoch 21 of 100\n"
          ]
        },
        {
          "output_type": "stream",
          "name": "stderr",
          "text": [
            "938it [00:13, 67.84it/s]                         \n",
            "157it [00:01, 98.93it/s]                         \n"
          ]
        },
        {
          "output_type": "stream",
          "name": "stdout",
          "text": [
            "Train Loss: 9875.0266\n",
            "Val Loss: 9843.1797\n",
            "Epoch 22 of 100\n"
          ]
        },
        {
          "output_type": "stream",
          "name": "stderr",
          "text": [
            "938it [00:14, 65.16it/s]                         \n",
            "157it [00:01, 93.18it/s]                         \n"
          ]
        },
        {
          "output_type": "stream",
          "name": "stdout",
          "text": [
            "Train Loss: 9865.5395\n",
            "Val Loss: 9822.0330\n",
            "Epoch 23 of 100\n"
          ]
        },
        {
          "output_type": "stream",
          "name": "stderr",
          "text": [
            "938it [00:13, 68.09it/s]                         \n",
            "157it [00:01, 98.57it/s]                         \n"
          ]
        },
        {
          "output_type": "stream",
          "name": "stdout",
          "text": [
            "Train Loss: 9853.5900\n",
            "Val Loss: 9939.0263\n",
            "Epoch 24 of 100\n"
          ]
        },
        {
          "output_type": "stream",
          "name": "stderr",
          "text": [
            "938it [00:13, 68.01it/s]                         \n",
            "157it [00:01, 97.58it/s]                         \n"
          ]
        },
        {
          "output_type": "stream",
          "name": "stdout",
          "text": [
            "Train Loss: 9822.8849\n",
            "Val Loss: 9774.6098\n",
            "Epoch 25 of 100\n"
          ]
        },
        {
          "output_type": "stream",
          "name": "stderr",
          "text": [
            "938it [00:13, 68.12it/s]                         \n",
            "157it [00:02, 68.50it/s]                         \n"
          ]
        },
        {
          "output_type": "stream",
          "name": "stdout",
          "text": [
            "Train Loss: 9776.3640\n",
            "Val Loss: 9724.7097\n",
            "Epoch 26 of 100\n"
          ]
        },
        {
          "output_type": "stream",
          "name": "stderr",
          "text": [
            "938it [00:13, 67.89it/s]                         \n",
            "157it [00:01, 98.21it/s] \n"
          ]
        },
        {
          "output_type": "stream",
          "name": "stdout",
          "text": [
            "Train Loss: 9729.7735\n",
            "Val Loss: 9705.8859\n",
            "Epoch 27 of 100\n"
          ]
        },
        {
          "output_type": "stream",
          "name": "stderr",
          "text": [
            "938it [00:13, 67.92it/s]                         \n",
            "157it [00:01, 98.39it/s]                         \n"
          ]
        },
        {
          "output_type": "stream",
          "name": "stdout",
          "text": [
            "Train Loss: 9708.3297\n",
            "Val Loss: 9719.2115\n",
            "Epoch 28 of 100\n"
          ]
        },
        {
          "output_type": "stream",
          "name": "stderr",
          "text": [
            "938it [00:13, 67.88it/s]\n",
            "157it [00:01, 87.10it/s]                         \n"
          ]
        },
        {
          "output_type": "stream",
          "name": "stdout",
          "text": [
            "Train Loss: 9691.8629\n",
            "Val Loss: 9661.1462\n",
            "Epoch 29 of 100\n"
          ]
        },
        {
          "output_type": "stream",
          "name": "stderr",
          "text": [
            "938it [00:14, 66.31it/s]                         \n",
            "157it [00:01, 100.08it/s]                         \n"
          ]
        },
        {
          "output_type": "stream",
          "name": "stdout",
          "text": [
            "Train Loss: 9680.1730\n",
            "Val Loss: 9649.4401\n",
            "Epoch 30 of 100\n"
          ]
        },
        {
          "output_type": "stream",
          "name": "stderr",
          "text": [
            "938it [00:13, 67.74it/s]                         \n",
            "157it [00:01, 98.66it/s]                         \n"
          ]
        },
        {
          "output_type": "stream",
          "name": "stdout",
          "text": [
            "Train Loss: 9670.9064\n",
            "Val Loss: 9658.7910\n",
            "Epoch 31 of 100\n"
          ]
        },
        {
          "output_type": "stream",
          "name": "stderr",
          "text": [
            "938it [00:13, 67.58it/s]                         \n",
            "157it [00:01, 99.45it/s]                         \n"
          ]
        },
        {
          "output_type": "stream",
          "name": "stdout",
          "text": [
            "Train Loss: 9663.0421\n",
            "Val Loss: 9654.5492\n",
            "Epoch 32 of 100\n"
          ]
        },
        {
          "output_type": "stream",
          "name": "stderr",
          "text": [
            "938it [00:14, 66.27it/s]                         \n",
            "157it [00:01, 83.41it/s]                         \n"
          ]
        },
        {
          "output_type": "stream",
          "name": "stdout",
          "text": [
            "Train Loss: 9654.0268\n",
            "Val Loss: 9646.6141\n",
            "Epoch 33 of 100\n"
          ]
        },
        {
          "output_type": "stream",
          "name": "stderr",
          "text": [
            "938it [00:13, 67.76it/s]                         \n",
            "157it [00:01, 97.20it/s] \n"
          ]
        },
        {
          "output_type": "stream",
          "name": "stdout",
          "text": [
            "Train Loss: 9643.6965\n",
            "Val Loss: 9632.3237\n",
            "Epoch 34 of 100\n"
          ]
        },
        {
          "output_type": "stream",
          "name": "stderr",
          "text": [
            "938it [00:13, 67.89it/s]                         \n",
            "157it [00:01, 99.97it/s]                          \n"
          ]
        },
        {
          "output_type": "stream",
          "name": "stdout",
          "text": [
            "Train Loss: 9637.2701\n",
            "Val Loss: 9653.0826\n",
            "Epoch 35 of 100\n"
          ]
        },
        {
          "output_type": "stream",
          "name": "stderr",
          "text": [
            "938it [00:13, 67.41it/s]\n",
            "157it [00:02, 70.39it/s]\n"
          ]
        },
        {
          "output_type": "stream",
          "name": "stdout",
          "text": [
            "Train Loss: 9629.1247\n",
            "Val Loss: 9635.7212\n",
            "Epoch 36 of 100\n"
          ]
        },
        {
          "output_type": "stream",
          "name": "stderr",
          "text": [
            "938it [00:13, 67.35it/s]                         \n",
            "157it [00:01, 97.62it/s]                         \n"
          ]
        },
        {
          "output_type": "stream",
          "name": "stdout",
          "text": [
            "Train Loss: 9623.4335\n",
            "Val Loss: 9617.3515\n",
            "Epoch 37 of 100\n"
          ]
        },
        {
          "output_type": "stream",
          "name": "stderr",
          "text": [
            "938it [00:13, 67.24it/s]                         \n",
            "157it [00:01, 99.49it/s]                         \n"
          ]
        },
        {
          "output_type": "stream",
          "name": "stdout",
          "text": [
            "Train Loss: 9615.3487\n",
            "Val Loss: 9619.2439\n",
            "Epoch 38 of 100\n"
          ]
        },
        {
          "output_type": "stream",
          "name": "stderr",
          "text": [
            "938it [00:13, 67.21it/s]                         \n",
            "157it [00:01, 86.53it/s]                         \n"
          ]
        },
        {
          "output_type": "stream",
          "name": "stdout",
          "text": [
            "Train Loss: 9608.8956\n",
            "Val Loss: 9611.8225\n",
            "Epoch 39 of 100\n"
          ]
        },
        {
          "output_type": "stream",
          "name": "stderr",
          "text": [
            "938it [00:14, 64.72it/s]                         \n",
            "157it [00:01, 97.77it/s]                         \n"
          ]
        },
        {
          "output_type": "stream",
          "name": "stdout",
          "text": [
            "Train Loss: 9606.1454\n",
            "Val Loss: 9618.8427\n",
            "Epoch 40 of 100\n"
          ]
        },
        {
          "output_type": "stream",
          "name": "stderr",
          "text": [
            " 53%|█████▎    | 496/937 [00:06<00:06, 70.03it/s]"
          ]
        }
      ]
    },
    {
      "cell_type": "code",
      "source": [],
      "metadata": {
        "id": "Yl2icHjRr2q7"
      },
      "execution_count": null,
      "outputs": []
    }
  ]
}