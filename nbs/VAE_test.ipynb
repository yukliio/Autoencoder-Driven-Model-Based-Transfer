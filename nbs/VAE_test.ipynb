{
  "nbformat": 4,
  "nbformat_minor": 0,
  "metadata": {
    "colab": {
      "provenance": [],
      "authorship_tag": "ABX9TyMg+lWy3zWBtY48/5zZ160q",
      "include_colab_link": true
    },
    "kernelspec": {
      "name": "python3",
      "display_name": "Python 3"
    },
    "language_info": {
      "name": "python"
    }
  },
  "cells": [
    {
      "cell_type": "markdown",
      "metadata": {
        "id": "view-in-github",
        "colab_type": "text"
      },
      "source": [
        "<a href=\"https://colab.research.google.com/github/yukliio/Autoencoder-Driven-Model-Based-Transfer/blob/main/nbs/VAE_test.ipynb\" target=\"_parent\"><img src=\"https://colab.research.google.com/assets/colab-badge.svg\" alt=\"Open In Colab\"/></a>"
      ]
    },
    {
      "cell_type": "code",
      "execution_count": null,
      "metadata": {
        "id": "gMHs2gqZ6KY-"
      },
      "outputs": [],
      "source": []
    },
    {
      "cell_type": "markdown",
      "source": [
        "# What is an autoencoder?"
      ],
      "metadata": {
        "id": "JWjncTfcJFP8"
      }
    },
    {
      "cell_type": "code",
      "source": [
        "# imports\n",
        "import torch\n",
        "import torch.nn as nn\n",
        "import torch.optim as optim\n",
        "import torchvision\n",
        "from torch.utils.data import DataLoader, Dataset\n",
        "import torchvision.transforms as transforms\n",
        "\n",
        "import matplotlib.pyplot as plt\n",
        "\n"
      ],
      "metadata": {
        "id": "v8QrWFAgJPyo"
      },
      "execution_count": 14,
      "outputs": []
    },
    {
      "cell_type": "code",
      "source": [
        "# load the MNIST dataset\n",
        "\n",
        "mnist_train = torchvision.datasets.MNIST(\n",
        "    root='./',\n",
        "    train=True,\n",
        "    download=True,\n",
        "    transform=transforms.ToTensor()\n",
        ")\n",
        "\n",
        "mnist_test = torchvision.datasets.MNIST(\n",
        "    root='./',\n",
        "    train=False,\n",
        "    download=True,\n",
        "    transform=transforms.ToTensor()\n",
        ")"
      ],
      "metadata": {
        "id": "gV4l2-dDJUEJ"
      },
      "execution_count": 11,
      "outputs": []
    },
    {
      "cell_type": "code",
      "source": [
        "print(\"Number of training samples:\", len(mnist_train))\n",
        "\n",
        "loader = DataLoader(mnist_train, batch_size=len(mnist_train))\n",
        "images, ground_truth = next(iter(loader))"
      ],
      "metadata": {
        "colab": {
          "base_uri": "https://localhost:8080/"
        },
        "id": "6sA-BD1SLzBC",
        "outputId": "214f1f22-4785-4b9b-d3b4-bc62173bf47e"
      },
      "execution_count": 29,
      "outputs": [
        {
          "output_type": "stream",
          "name": "stdout",
          "text": [
            "Number of training samples: 60000\n"
          ]
        }
      ]
    },
    {
      "cell_type": "code",
      "source": [
        "images = images.squeeze()  # removes dimensions of size (1)\n",
        "print(images.shape) [6000, 28, 28]\n",
        "print(ground_truth.shape)"
      ],
      "metadata": {
        "colab": {
          "base_uri": "https://localhost:8080/"
        },
        "collapsed": true,
        "id": "PWaNtEWaOj99",
        "outputId": "f1ad2da6-209d-47ca-efa1-27b26d831ee3"
      },
      "execution_count": 33,
      "outputs": [
        {
          "output_type": "stream",
          "name": "stdout",
          "text": [
            "torch.Size([60000, 28, 28])\n",
            "torch.Size([60000])\n"
          ]
        }
      ]
    },
    {
      "cell_type": "code",
      "source": [
        "print(torch.min(images[0]))\n",
        "print(torch.max(images[0]))\n",
        "\n",
        "images_int = (images * 255).byte()  # convert to 0-255\n",
        "print(images_int.min(), images_int.max())  # 0 255"
      ],
      "metadata": {
        "colab": {
          "base_uri": "https://localhost:8080/"
        },
        "id": "pZJPYVVyQ1My",
        "outputId": "55dca4bd-7518-4335-d3d5-f8bd47e9c1a0"
      },
      "execution_count": 35,
      "outputs": [
        {
          "output_type": "stream",
          "name": "stdout",
          "text": [
            "tensor(0.)\n",
            "tensor(1.)\n",
            "tensor(0, dtype=torch.uint8) tensor(255, dtype=torch.uint8)\n"
          ]
        }
      ]
    },
    {
      "cell_type": "code",
      "source": [
        "image_index = 15\n",
        "\n",
        "print(ground_truth[image_index])\n",
        "plt.imshow(images[image_index], cmap='gray')"
      ],
      "metadata": {
        "colab": {
          "base_uri": "https://localhost:8080/",
          "height": 465
        },
        "id": "B70yaNeERQV9",
        "outputId": "27766d92-5956-49c1-e2c3-35a11d0dc01c"
      },
      "execution_count": 36,
      "outputs": [
        {
          "output_type": "stream",
          "name": "stdout",
          "text": [
            "tensor(7)\n"
          ]
        },
        {
          "output_type": "execute_result",
          "data": {
            "text/plain": [
              "<matplotlib.image.AxesImage at 0x7d70c202b110>"
            ]
          },
          "metadata": {},
          "execution_count": 36
        },
        {
          "output_type": "display_data",
          "data": {
            "text/plain": [
              "<Figure size 640x480 with 1 Axes>"
            ],
            "image/png": "[encoded data removed]"
          },
          "metadata": {}
        }
      ]
    },
    {
      "cell_type": "code",
      "source": [
        "import torch\n",
        "from torchvision import datasets, transforms\n",
        "\n",
        "mnist_train = datasets.MNIST(\n",
        "    root='./',\n",
        "    train=True,\n",
        "    download=True,\n",
        "    transform=transforms.ToTensor()\n",
        ")\n",
        "\n",
        "\n",
        "# stack all images into one tensor\n",
        "all_images = torch.stack([img for img, label in mnist_train])  # [60000, 1, 28, 28]\n",
        "\n",
        "# stack all labels into one tensor\n",
        "all_labels = torch.tensor([label for img, label in mnist_train])  # [60000]\n",
        "\n",
        "# save to file\n",
        "torch.save((all_images, all_labels), 'mnist_train.pt')\n",
        "print(\"File saved as mnist_train.pt\")"
      ],
      "metadata": {
        "id": "hRCuUqcNZtuM",
        "outputId": "1c48e36b-7664-4ec1-a9dc-9cbd2cf1f2f8",
        "colab": {
          "base_uri": "https://localhost:8080/"
        }
      },
      "execution_count": 37,
      "outputs": [
        {
          "output_type": "stream",
          "name": "stdout",
          "text": [
            "File saved as mnist_train.pt\n"
          ]
        }
      ]
    },
    {
      "cell_type": "code",
      "source": [
        "\n",
        "mnist_test = datasets.MNIST(\n",
        "    root='./',\n",
        "    train=True,\n",
        "    download=True,\n",
        "    transform=transforms.ToTensor()\n",
        ")\n",
        "\n",
        "\n",
        "# stack all images into one tensor\n",
        "all_images = torch.stack([img for img, label in mnist_test])\n",
        "\n",
        "# stack all labels into one tensor\n",
        "all_labels = torch.tensor([label for img, label in mnist_test])\n",
        "\n",
        "# save to file\n",
        "torch.save((all_images, all_labels), 'mnist_test.pt')\n",
        "print(\"File saved as mnist_test.pt\")"
      ],
      "metadata": {
        "id": "8kZsLEZrZ6V2",
        "outputId": "d07d4bb7-a288-4996-d3cf-23455a9b968d",
        "colab": {
          "base_uri": "https://localhost:8080/"
        }
      },
      "execution_count": 39,
      "outputs": [
        {
          "output_type": "stream",
          "name": "stdout",
          "text": [
            "File saved as mnist_test.pt\n"
          ]
        }
      ]
    },
    {
      "cell_type": "code",
      "source": [
        "# map style pytorch dataset\n",
        "\n",
        "class MNISTDataset(Dataset):\n",
        "  # need to implement getitem and len methods. creates a map dataste and can query the dataset via index\n",
        "  def __init__(self, path):\n",
        "    # loads data into memory\n",
        "    self.images, self.ground_truth = torch.load(path)\n",
        "\n",
        "  def __getitem__(self, idx):\n",
        "    # returns the image with index idx\n",
        "    x = self.images[idx].float()\n",
        "    x = torch.flatten(x)\n",
        "    y = self.ground_truth[idx]\n",
        "\n",
        "    return x, y\n",
        "\n",
        "  def __len__(self):\n",
        "  # returns the length of the dataset\n",
        "    return len(self.ground_truth)\n",
        "\n"
      ],
      "metadata": {
        "id": "AYYyhWyATElp"
      },
      "execution_count": null,
      "outputs": []
    },
    {
      "cell_type": "code",
      "source": [
        "# make the dataset\n",
        "train_dataset = MNISTDataset(\"mnist_train.pt\")\n",
        "\n",
        "loader = DataLoader(dataset, batch_size=64, shuffle=True)\n"
      ],
      "metadata": {
        "id": "-ua0xV2QZ3r_"
      },
      "execution_count": null,
      "outputs": []
    }
  ]
}