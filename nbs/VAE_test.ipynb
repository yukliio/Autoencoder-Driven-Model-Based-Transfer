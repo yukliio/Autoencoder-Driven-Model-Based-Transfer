{
  "nbformat": 4,
  "nbformat_minor": 0,
  "metadata": {
    "colab": {
      "provenance": [],
      "gpuType": "T4",
      "authorship_tag": "ABX9TyNtSiW9FzAAriHkkL9LpbuH",
      "include_colab_link": true
    },
    "kernelspec": {
      "name": "python3",
      "display_name": "Python 3"
    },
    "language_info": {
      "name": "python"
    },
    "accelerator": "GPU"
  },
  "cells": [
    {
      "cell_type": "markdown",
      "metadata": {
        "id": "view-in-github",
        "colab_type": "text"
      },
      "source": [
        "<a href=\"https://colab.research.google.com/github/yukliio/Autoencoder-Driven-Model-Based-Transfer/blob/main/nbs/VAE_test.ipynb\" target=\"_parent\"><img src=\"https://colab.research.google.com/assets/colab-badge.svg\" alt=\"Open In Colab\"/></a>"
      ]
    },
    {
      "cell_type": "code",
      "execution_count": null,
      "metadata": {
        "id": "gMHs2gqZ6KY-"
      },
      "outputs": [],
      "source": []
    },
    {
      "cell_type": "markdown",
      "source": [
        "# What is an autoencoder?"
      ],
      "metadata": {
        "id": "JWjncTfcJFP8"
      }
    },
    {
      "cell_type": "code",
      "source": [
        "# imports\n",
        "import torch\n",
        "import torch.nn as nn\n",
        "import torch.optim as optim\n",
        "import torchvision\n",
        "from torch.utils.data import DataLoader, Dataset\n",
        "import torchvision.transforms as transforms\n",
        "\n",
        "import matplotlib.pyplot as plt\n",
        "\n"
      ],
      "metadata": {
        "id": "v8QrWFAgJPyo"
      },
      "execution_count": 1,
      "outputs": []
    },
    {
      "cell_type": "code",
      "source": [
        "# load the MNIST dataset\n",
        "\n",
        "mnist_train = torchvision.datasets.MNIST(\n",
        "    root='./',\n",
        "    train=True,\n",
        "    download=True,\n",
        "    transform=transforms.ToTensor()\n",
        ")\n",
        "\n",
        "mnist_test = torchvision.datasets.MNIST(\n",
        "    root='./',\n",
        "    train=False,\n",
        "    download=True,\n",
        "    transform=transforms.ToTensor()\n",
        ")"
      ],
      "metadata": {
        "id": "gV4l2-dDJUEJ",
        "outputId": "ceb8f9fe-e2f4-42cf-af19-c123268c6a59",
        "colab": {
          "base_uri": "https://localhost:8080/"
        }
      },
      "execution_count": 2,
      "outputs": [
        {
          "output_type": "stream",
          "name": "stderr",
          "text": [
            "100%|██████████| 9.91M/9.91M [00:00<00:00, 14.1MB/s]\n",
            "100%|██████████| 28.9k/28.9k [00:00<00:00, 342kB/s]\n",
            "100%|██████████| 1.65M/1.65M [00:00<00:00, 3.21MB/s]\n",
            "100%|██████████| 4.54k/4.54k [00:00<00:00, 9.11MB/s]\n"
          ]
        }
      ]
    },
    {
      "cell_type": "code",
      "source": [
        "print(\"Number of training samples:\", len(mnist_train))\n",
        "\n",
        "loader = DataLoader(mnist_train, batch_size=len(mnist_train))\n",
        "images, ground_truth = next(iter(loader))"
      ],
      "metadata": {
        "colab": {
          "base_uri": "https://localhost:8080/"
        },
        "id": "6sA-BD1SLzBC",
        "outputId": "84e66bac-e02e-4ad5-d743-87a581846778"
      },
      "execution_count": 3,
      "outputs": [
        {
          "output_type": "stream",
          "name": "stdout",
          "text": [
            "Number of training samples: 60000\n"
          ]
        }
      ]
    },
    {
      "cell_type": "code",
      "source": [
        "images = images.squeeze()  # removes dimensions of size (1)\n",
        "print(images.shape)\n",
        "print(ground_truth.shape)"
      ],
      "metadata": {
        "colab": {
          "base_uri": "https://localhost:8080/"
        },
        "collapsed": true,
        "id": "PWaNtEWaOj99",
        "outputId": "77dfee65-4e71-4914-fb4c-0db8ab8d85cb"
      },
      "execution_count": 4,
      "outputs": [
        {
          "output_type": "stream",
          "name": "stdout",
          "text": [
            "torch.Size([60000, 28, 28])\n",
            "torch.Size([60000])\n"
          ]
        }
      ]
    },
    {
      "cell_type": "code",
      "source": [
        "print(torch.min(images[0]))\n",
        "print(torch.max(images[0]))\n",
        "\n",
        "images_int = (images * 255).byte()  # convert to 0-255\n",
        "print(images_int.min(), images_int.max())  # 0 255"
      ],
      "metadata": {
        "colab": {
          "base_uri": "https://localhost:8080/"
        },
        "id": "pZJPYVVyQ1My",
        "outputId": "1757082f-d563-4ccb-9d45-4b347d33798c"
      },
      "execution_count": 5,
      "outputs": [
        {
          "output_type": "stream",
          "name": "stdout",
          "text": [
            "tensor(0.)\n",
            "tensor(1.)\n",
            "tensor(0, dtype=torch.uint8) tensor(255, dtype=torch.uint8)\n"
          ]
        }
      ]
    },
    {
      "cell_type": "code",
      "source": [
        "image_index = 15\n",
        "\n",
        "print(ground_truth[image_index])\n",
        "plt.imshow(images[image_index], cmap='gray')"
      ],
      "metadata": {
        "colab": {
          "base_uri": "https://localhost:8080/",
          "height": 465
        },
        "id": "B70yaNeERQV9",
        "outputId": "f38b73f7-7028-4623-8a43-270ba5502cb4"
      },
      "execution_count": 6,
      "outputs": [
        {
          "output_type": "stream",
          "name": "stdout",
          "text": [
            "tensor(7)\n"
          ]
        },
        {
          "output_type": "execute_result",
          "data": {
            "text/plain": [
              "<matplotlib.image.AxesImage at 0x79e890060860>"
            ]
          },
          "metadata": {},
          "execution_count": 6
        },
        {
          "output_type": "display_data",
          "data": {
            "text/plain": [
              "<Figure size 640x480 with 1 Axes>"
            ],
            "image/png": "[encoded data removed]"
          },
          "metadata": {}
        }
      ]
    },
    {
      "cell_type": "code",
      "source": [
        "import torch\n",
        "from torchvision import datasets, transforms\n",
        "\n",
        "mnist_train = datasets.MNIST(\n",
        "    root='./',\n",
        "    train=True,\n",
        "    download=True,\n",
        "    transform=transforms.ToTensor()\n",
        ")\n",
        "\n",
        "\n",
        "# stack all images into one tensor\n",
        "all_images = torch.stack([img for img, label in mnist_train])  # [60000, 1, 28, 28]\n",
        "\n",
        "# stack all labels into one tensor\n",
        "all_labels = torch.tensor([label for img, label in mnist_train])  # [60000]\n",
        "\n",
        "# save to file\n",
        "torch.save((all_images, all_labels), 'mnist_train.pt')\n",
        "print(\"File saved as mnist_train.pt\")"
      ],
      "metadata": {
        "id": "hRCuUqcNZtuM",
        "outputId": "c5ff1d17-b2ec-4c39-9fcc-7d0e9416c744",
        "colab": {
          "base_uri": "https://localhost:8080/"
        }
      },
      "execution_count": 7,
      "outputs": [
        {
          "output_type": "stream",
          "name": "stdout",
          "text": [
            "File saved as mnist_train.pt\n"
          ]
        }
      ]
    },
    {
      "cell_type": "code",
      "source": [
        "\n",
        "mnist_test = datasets.MNIST(\n",
        "    root='./',\n",
        "    train=True,\n",
        "    download=True,\n",
        "    transform=transforms.ToTensor()\n",
        ")\n",
        "\n",
        "\n",
        "# stack all images into one tensor\n",
        "all_images = torch.stack([img for img, label in mnist_test])\n",
        "\n",
        "# stack all labels into one tensor\n",
        "all_labels = torch.tensor([label for img, label in mnist_test])\n",
        "\n",
        "# save to file\n",
        "torch.save((all_images, all_labels), 'mnist_test.pt')\n",
        "print(\"File saved as mnist_test.pt\")"
      ],
      "metadata": {
        "id": "8kZsLEZrZ6V2",
        "outputId": "983d4166-c088-411b-c1b1-20e60dacbbc2",
        "colab": {
          "base_uri": "https://localhost:8080/"
        }
      },
      "execution_count": 8,
      "outputs": [
        {
          "output_type": "stream",
          "name": "stdout",
          "text": [
            "File saved as mnist_test.pt\n"
          ]
        }
      ]
    },
    {
      "cell_type": "code",
      "source": [
        "# map style pytorch dataset\n",
        "\n",
        "class MNISTDataset(Dataset):\n",
        "  # need to implement getitem and len methods. creates a map dataste and can query the dataset via index\n",
        "  def __init__(self, path):\n",
        "    # loads data into memory\n",
        "    self.images, self.ground_truth = torch.load(path)\n",
        "\n",
        "  def __getitem__(self, idx):\n",
        "    # returns the image with index idx\n",
        "    x = self.images[idx].float()\n",
        "    x = torch.flatten(x)\n",
        "    y = self.ground_truth[idx]\n",
        "\n",
        "    return x, y\n",
        "\n",
        "  def __len__(self):\n",
        "  # returns the length of the dataset\n",
        "    return len(self.ground_truth)\n",
        "\n"
      ],
      "metadata": {
        "id": "AYYyhWyATElp"
      },
      "execution_count": 9,
      "outputs": []
    },
    {
      "cell_type": "code",
      "source": [
        "# make the dataset\n",
        "train_dataset = MNISTDataset(\"mnist_train.pt\")\n",
        "test_dataset = MNISTDataset(\"mnist_test.pt\")\n",
        "\n",
        "train_loader = DataLoader(train_dataset, batch_size=64, shuffle=True)\n",
        "test_loader = DataLoader(test_dataset, batch_size=64, shuffle=True)\n",
        "\n"
      ],
      "metadata": {
        "id": "-ua0xV2QZ3r_"
      },
      "execution_count": 10,
      "outputs": []
    },
    {
      "cell_type": "code",
      "source": [
        "print(len(train_dataset))\n",
        "print(len(test_dataset))"
      ],
      "metadata": {
        "id": "-gjmPF7jOb0s",
        "outputId": "5dc44ca5-a905-4167-b6e5-1a5f52b7da4b",
        "colab": {
          "base_uri": "https://localhost:8080/"
        }
      },
      "execution_count": 11,
      "outputs": [
        {
          "output_type": "stream",
          "name": "stdout",
          "text": [
            "60000\n",
            "60000\n"
          ]
        }
      ]
    },
    {
      "cell_type": "code",
      "source": [
        "x, y = train_dataset[12]\n",
        "plt.imshow(x.numpy().reshape(28,28), cmap='gray')"
      ],
      "metadata": {
        "id": "vvpZliS1Q5W6",
        "outputId": "b84f741a-4cbf-4b8a-a3b4-a0c49aafc2d0",
        "colab": {
          "base_uri": "https://localhost:8080/",
          "height": 447
        }
      },
      "execution_count": 12,
      "outputs": [
        {
          "output_type": "execute_result",
          "data": {
            "text/plain": [
              "<matplotlib.image.AxesImage at 0x79e89021d880>"
            ]
          },
          "metadata": {},
          "execution_count": 12
        },
        {
          "output_type": "display_data",
          "data": {
            "text/plain": [
              "<Figure size 640x480 with 1 Axes>"
            ],
            "image/png": "[encoded data removed]"
          },
          "metadata": {}
        }
      ]
    },
    {
      "cell_type": "code",
      "source": [],
      "metadata": {
        "id": "i0MNRcYGQNEQ",
        "outputId": "30a48fcc-b936-40b7-cd13-02810366f217",
        "colab": {
          "base_uri": "https://localhost:8080/",
          "height": 447
        }
      },
      "execution_count": 38,
      "outputs": [
        {
          "output_type": "execute_result",
          "data": {
            "text/plain": [
              "<matplotlib.image.AxesImage at 0x7c43a7a42c30>"
            ]
          },
          "metadata": {},
          "execution_count": 38
        },
        {
          "output_type": "display_data",
          "data": {
            "text/plain": [
              "<Figure size 640x480 with 1 Axes>"
            ],
            "image/png": "[encoded data removed]"
          },
          "metadata": {}
        }
      ]
    },
    {
      "cell_type": "code",
      "source": [
        "import torch.nn as nn\n",
        "import torch.nn.functional as F\n",
        "\n",
        "class AutoEncoder(nn.Module):\n",
        "  \"\"\"\n",
        "  params:\n",
        "    - input_shape: shape fo the input data\n",
        "    - latent_dim: size of the latent dim\n",
        "  \"\"\"\n",
        "  def __init__(self, input_shape, latent_dim=128):\n",
        "    super().__init__()\n",
        "    # two fully connected layers for encoder (input_shape --> latent dim)\n",
        "    self.encoder_11 = nn.Linear(in_features=input_shape, out_features=latent_dim)\n",
        "    self.encoder_12 = nn.Linear(in_features=latent_dim, out_features=latent_dim)\n",
        "\n",
        "    # two fully connected layers for decder (128 --> input_shape)\n",
        "    self.decoder_11 = nn.Linear(in_features=latent_dim, out_features=latent_dim)\n",
        "    self.decoder_12 = nn.Linear(in_features=latent_dim, out_features=input_shape)\n",
        "\n",
        "  def forward(self, x):\n",
        "    \"\"\"\n",
        "    params:\n",
        "      - x: input data\n",
        "\n",
        "    returns:\n",
        "      - x_hat: reconstructed data\n",
        "    \"\"\"\n",
        "\n",
        "    latent = self.run_encoder(x)\n",
        "    x_hat = self.run_decoder(latent)\n",
        "    return x_hat\n",
        "\n",
        "  def run_encoder(self, x):\n",
        "    # runs encoder\n",
        "    output = F.relu(self.encoder_11(x))\n",
        "    latent = F.relu(self.encoder_12(output))\n",
        "    return latent\n",
        "\n",
        "  def run_decoder(self, latent):\n",
        "    # runs decoder\n",
        "    output = F.relu(self.decoder_11(latent))\n",
        "    x_hat = F.relu(self.decoder_12(output))\n",
        "    return x_hat\n"
      ],
      "metadata": {
        "id": "PGufqr3pQPby"
      },
      "execution_count": 27,
      "outputs": []
    },
    {
      "cell_type": "code",
      "source": [
        "x, y = train_dataset[0]\n",
        "image_shape = x.shape[0]\n",
        "print(image_shape)\n",
        "model = AutoEncoder(input_shape=image_shape)\n",
        "model.train()\n",
        "model.cuda()\n"
      ],
      "metadata": {
        "id": "8iNP4rM-UswK",
        "outputId": "a6f2afcb-7b92-43df-d36e-d2d392aef56b",
        "colab": {
          "base_uri": "https://localhost:8080/"
        }
      },
      "execution_count": 30,
      "outputs": [
        {
          "output_type": "stream",
          "name": "stdout",
          "text": [
            "784\n"
          ]
        },
        {
          "output_type": "execute_result",
          "data": {
            "text/plain": [
              "AutoEncoder(\n",
              "  (encoder_11): Linear(in_features=784, out_features=128, bias=True)\n",
              "  (encoder_12): Linear(in_features=128, out_features=128, bias=True)\n",
              "  (decoder_11): Linear(in_features=128, out_features=128, bias=True)\n",
              "  (decoder_12): Linear(in_features=128, out_features=784, bias=True)\n",
              ")"
            ]
          },
          "metadata": {},
          "execution_count": 30
        }
      ]
    },
    {
      "cell_type": "code",
      "source": [],
      "metadata": {
        "id": "TgnsR3aUzSGg"
      },
      "execution_count": null,
      "outputs": []
    },
    {
      "cell_type": "code",
      "source": [
        "import torch.nn as nn\n",
        "import torch.optim as optim\n",
        "\n",
        "mae = nn.MSELoss()\n",
        "\n",
        "optimizer = optim.Adam(model.parameters(), lr=1e-3)\n",
        "n_epochs = 100\n",
        "\n",
        "for epoch in range(n_epochs):\n",
        "    loss = 0\n",
        "    for batch_features, _ in train_loader:\n",
        "        batch_features = batch_features.cuda()\n",
        "\n",
        "        # reset gradients back to zero\n",
        "        optimizer.zero_grad()\n",
        "\n",
        "\n",
        "        outputs = model(batch_features)\n",
        "        train_loss = mae(outputs, batch_features)\n",
        "        train_loss.backward()\n",
        "        optimizer.step()\n",
        "\n",
        "        loss += train_loss.item()\n",
        "\n",
        "    loss = loss / len(train_loader)\n",
        "\n",
        "    if epoch % 5 == 0:\n",
        "        print(\"epoch: {}/{}, loss = {:.6f}\".format(epoch + 1, n_epochs, loss))\n",
        "\n",
        "# final report\n",
        "print(\"epoch: {}/{}, loss = {:.6f}\".format(n_epochs, n_epochs, loss))\n",
        "\n"
      ],
      "metadata": {
        "id": "Y-L3i0QgVWco",
        "outputId": "e40c2b4b-c726-45af-af46-c4a62ff35f09",
        "colab": {
          "base_uri": "https://localhost:8080/"
        }
      },
      "execution_count": 31,
      "outputs": [
        {
          "output_type": "stream",
          "name": "stdout",
          "text": [
            "epoch: 1/100, loss = 0.027503\n",
            "epoch: 6/100, loss = 0.014296\n",
            "epoch: 11/100, loss = 0.013373\n",
            "epoch: 16/100, loss = 0.012996\n",
            "epoch: 21/100, loss = 0.012755\n",
            "epoch: 26/100, loss = 0.012611\n",
            "epoch: 31/100, loss = 0.012491\n",
            "epoch: 36/100, loss = 0.012433\n",
            "epoch: 41/100, loss = 0.012368\n",
            "epoch: 46/100, loss = 0.012334\n",
            "epoch: 51/100, loss = 0.012309\n",
            "epoch: 56/100, loss = 0.012300\n",
            "epoch: 61/100, loss = 0.012291\n",
            "epoch: 66/100, loss = 0.012281\n",
            "epoch: 71/100, loss = 0.012271\n",
            "epoch: 76/100, loss = 0.012265\n",
            "epoch: 81/100, loss = 0.012264\n",
            "epoch: 86/100, loss = 0.012251\n",
            "epoch: 91/100, loss = 0.012252\n",
            "epoch: 96/100, loss = 0.012254\n",
            "epoch: 100/100, loss = 0.012238\n"
          ]
        }
      ]
    },
    {
      "cell_type": "code",
      "source": [
        "model.eval()"
      ],
      "metadata": {
        "id": "KFc8QnLX2MC0"
      },
      "execution_count": null,
      "outputs": []
    },
    {
      "cell_type": "code",
      "source": [],
      "metadata": {
        "id": "eNt9hY981-uc"
      },
      "execution_count": null,
      "outputs": []
    }
  ]
}